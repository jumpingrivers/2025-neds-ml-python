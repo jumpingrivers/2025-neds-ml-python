{
 "cells": [
  {
   "cell_type": "markdown",
   "id": "4162d23b",
   "metadata": {},
   "source": [
    "# Introduction"
   ]
  },
  {
   "cell_type": "markdown",
   "id": "e07433e0",
   "metadata": {},
   "source": [
    "## What is analytics?"
   ]
  },
  {
   "cell_type": "markdown",
   "id": "5d458a0a",
   "metadata": {},
   "source": [
    "Broadly..."
   ]
  },
  {
   "cell_type": "markdown",
   "id": "6bc4288d",
   "metadata": {},
   "source": [
    "> _Analytics is the discovery, interpretation, and communication of meaningful patterns in data and\n",
    "> applying those patterns towards effective decision making._"
   ]
  },
  {
   "cell_type": "markdown",
   "id": "b9d155d6",
   "metadata": {},
   "source": [
    "## What is machine learning?"
   ]
  },
  {
   "cell_type": "markdown",
   "id": "a9fcf595",
   "metadata": {},
   "source": [
    "Broadly..."
   ]
  },
  {
   "cell_type": "markdown",
   "id": "69c89c46",
   "metadata": {},
   "source": [
    "> _Machine learning (ML) is the study of algorithms and statistical models that computer systems use\n",
    "> to progressively improve their performance on a specific task. Machine learning algorithms build a\n",
    "> mathematical model of sample data, known as \"training data\", in order to make predictions or\n",
    "> decisions without being explicitly programmed to perform the task... In its application across\n",
    "> business problems, machine learning is also referred to as predictive analytics._"
   ]
  },
  {
   "cell_type": "markdown",
   "id": "666d6d11",
   "metadata": {},
   "source": [
    "## A statistical model"
   ]
  },
  {
   "cell_type": "markdown",
   "id": "d3ecc056",
   "metadata": {},
   "source": [
    "Suppose we observe some response, $Y$, and a set of $p$ predictors, $X = (X_1, X_2, \\ldots, X_p)$."
   ]
  },
  {
   "cell_type": "markdown",
   "id": "dfb2c480",
   "metadata": {},
   "source": [
    "Additionally, suppose we believe there is some relationship between $Y$ and $X$."
   ]
  },
  {
   "cell_type": "markdown",
   "id": "09c61d40",
   "metadata": {},
   "source": [
    "In general we could express this relationship as\n",
    "$$\n",
    "  Y = f(X) + \\epsilon,\n",
    "$$\n",
    "\n",
    "where:\n",
    "\n",
    "- $f(\\cdot)$ is some fixed but unknown function, \n",
    "- $\\epsilon$ is a random error independent of $X$."
   ]
  },
  {
   "cell_type": "markdown",
   "id": "e11bc857",
   "metadata": {},
   "source": [
    "Here $f(\\cdot)$ represents the systematic information about $Y$ provided by $X$."
   ]
  },
  {
   "cell_type": "markdown",
   "id": "bb06cb2e",
   "metadata": {},
   "source": [
    "Knowledge of the true $f(\\cdot)$ is almost certainly unavailable, but given a set of observations we\n",
    "can estimate it."
   ]
  }
 ],
 "metadata": {
  "jupytext": {
   "cell_metadata_filter": "-all",
   "main_language": "python",
   "notebook_metadata_filter": "-all"
  },
  "kernelspec": {
   "display_name": "Python 3 (ipykernel)",
   "language": "python",
   "name": "python3"
  },
  "language_info": {
   "codemirror_mode": {
    "name": "ipython",
    "version": 3
   },
   "file_extension": ".py",
   "mimetype": "text/x-python",
   "name": "python",
   "nbconvert_exporter": "python",
   "pygments_lexer": "ipython3",
   "version": "3.12.3"
  }
 },
 "nbformat": 4,
 "nbformat_minor": 5
}
