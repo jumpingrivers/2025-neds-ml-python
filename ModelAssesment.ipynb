{
 "cells": [
  {
   "cell_type": "markdown",
   "id": "0e0d855d",
   "metadata": {},
   "source": [
    "# Model Assessment "
   ]
  },
  {
   "cell_type": "markdown",
   "id": "507bb697",
   "metadata": {},
   "source": [
    "Thus far, our assessment of a model's predictive performance has been based on its ability to\n",
    "predict the same data used to train the model."
   ]
  },
  {
   "cell_type": "markdown",
   "id": "e6afb4ff",
   "metadata": {},
   "source": [
    "This approach typically does a poor job at quantifying how well our model generalises to data\n",
    "it hasn't seen before."
   ]
  },
  {
   "cell_type": "markdown",
   "id": "1b111003",
   "metadata": {},
   "source": [
    "## Cross validation"
   ]
  },
  {
   "cell_type": "markdown",
   "id": "f9f38744",
   "metadata": {},
   "source": [
    "Cross validation can be an invaluable tool in assessing the predictive ability of a model."
   ]
  },
  {
   "cell_type": "markdown",
   "id": "dfc7f1f4",
   "metadata": {},
   "source": [
    "In cross validation we typically divide our training data into $k$ approximately equally sized\n",
    "groups.\n",
    "\n",
    "Each group is left out in turn as a test set, with the other $k-1$ groups being used as a training\n",
    "set.\n",
    "\n",
    "This approach allows us to assess how well our model generalises."
   ]
  },
  {
   "cell_type": "markdown",
   "id": "379364f8",
   "metadata": {},
   "source": [
    "## Cross validation: example"
   ]
  },
  {
   "cell_type": "markdown",
   "id": "e45916d4",
   "metadata": {},
   "source": [
    "The `sklearn.metrics` module provides a number of scoring functions for different modelling tasks."
   ]
  },
  {
   "cell_type": "markdown",
   "id": "d5b44208",
   "metadata": {},
   "source": [
    "Additionally, `sklearn.model_selection.cross_validate` can be used to run a cross validation\n",
    "procedure."
   ]
  },
  {
   "cell_type": "markdown",
   "id": "0fb59728",
   "metadata": {},
   "source": [
    "Let's begin by loading some standard libraries:\n"
   ]
  },
  {
   "cell_type": "code",
   "execution_count": 5,
   "id": "fda69a92",
   "metadata": {
    "lines_to_next_cell": 2
   },
   "outputs": [],
   "source": [
    "from sklearn.preprocessing import StandardScaler\n",
    "from sklearn.linear_model import LinearRegression\n",
    "from sklearn.pipeline import Pipeline\n",
    "import pandas as pd"
   ]
  },
  {
   "cell_type": "markdown",
   "id": "2e9f73b8",
   "metadata": {},
   "source": [
    "We will again be working with the Ames housing dataset:\n"
   ]
  },
  {
   "cell_type": "code",
   "execution_count": 6,
   "id": "a711b106",
   "metadata": {
    "lines_to_next_cell": 2
   },
   "outputs": [],
   "source": [
    "from sklearn.datasets import fetch_openml\n",
    "\n",
    "housing = fetch_openml(name=\"house_prices\", as_frame=True)\n",
    "X_train = housing.data\n",
    "y_train = housing.target / 100000"
   ]
  },
  {
   "cell_type": "markdown",
   "id": "9e0d4951",
   "metadata": {},
   "source": [
    "Let's select 10 columns to work with:\n"
   ]
  },
  {
   "cell_type": "code",
   "execution_count": 7,
   "id": "f33f93cc",
   "metadata": {
    "lines_to_next_cell": 2
   },
   "outputs": [],
   "source": [
    "features = [\n",
    "    \"LotArea\",\n",
    "    \"YearBuilt\",\n",
    "    \"OverallQual\",\n",
    "    \"YearRemodAdd\",\n",
    "    \"TotRmsAbvGrd\",\n",
    "    \"Fireplaces\",\n",
    "    \"GarageArea\",\n",
    "    \"GarageCars\",\n",
    "    \"PoolArea\",\n",
    "    \"YrSold\",\n",
    "]\n",
    "X_train = X_train[features]"
   ]
  },
  {
   "cell_type": "markdown",
   "id": "4f00b9ff",
   "metadata": {},
   "source": [
    "Now we set up a modelling `Pipeline` for the Ames data:\n"
   ]
  },
  {
   "cell_type": "code",
   "execution_count": 8,
   "id": "e586b2fb",
   "metadata": {
    "lines_to_next_cell": 2
   },
   "outputs": [],
   "source": [
    "model = Pipeline(\n",
    "    [\n",
    "        (\"pre\", StandardScaler()),\n",
    "        (\"reg\", LinearRegression()),\n",
    "    ]\n",
    ")"
   ]
  },
  {
   "cell_type": "markdown",
   "id": "12658449",
   "metadata": {},
   "source": [
    "To use the scoring functions with `cross_validate()` we must wrap them with the `make_scorer()`\n",
    "function:\n"
   ]
  },
  {
   "cell_type": "code",
   "execution_count": 9,
   "id": "509b0745",
   "metadata": {
    "lines_to_next_cell": 2
   },
   "outputs": [],
   "source": [
    "from sklearn.metrics import mean_squared_error, make_scorer\n",
    "\n",
    "score_fn = make_scorer(mean_squared_error)"
   ]
  },
  {
   "cell_type": "markdown",
   "id": "ee6798df",
   "metadata": {},
   "source": [
    "We can perform 10-fold (dividing the data into 10 approximately equally sized groups) cross\n",
    "validation with:\n"
   ]
  },
  {
   "cell_type": "code",
   "execution_count": 10,
   "id": "b4060bb8",
   "metadata": {
    "lines_to_next_cell": 2
   },
   "outputs": [
    {
     "data": {
      "text/html": [
       "<div>\n",
       "<style scoped>\n",
       "    .dataframe tbody tr th:only-of-type {\n",
       "        vertical-align: middle;\n",
       "    }\n",
       "\n",
       "    .dataframe tbody tr th {\n",
       "        vertical-align: top;\n",
       "    }\n",
       "\n",
       "    .dataframe thead th {\n",
       "        text-align: right;\n",
       "    }\n",
       "</style>\n",
       "<table border=\"1\" class=\"dataframe\">\n",
       "  <thead>\n",
       "    <tr style=\"text-align: right;\">\n",
       "      <th></th>\n",
       "      <th>fit_time</th>\n",
       "      <th>score_time</th>\n",
       "      <th>test_score</th>\n",
       "    </tr>\n",
       "  </thead>\n",
       "  <tbody>\n",
       "    <tr>\n",
       "      <th>0</th>\n",
       "      <td>0.003490</td>\n",
       "      <td>0.001045</td>\n",
       "      <td>0.108807</td>\n",
       "    </tr>\n",
       "    <tr>\n",
       "      <th>1</th>\n",
       "      <td>0.002632</td>\n",
       "      <td>0.000911</td>\n",
       "      <td>0.123177</td>\n",
       "    </tr>\n",
       "    <tr>\n",
       "      <th>2</th>\n",
       "      <td>0.001854</td>\n",
       "      <td>0.000786</td>\n",
       "      <td>0.109383</td>\n",
       "    </tr>\n",
       "    <tr>\n",
       "      <th>3</th>\n",
       "      <td>0.002164</td>\n",
       "      <td>0.001017</td>\n",
       "      <td>0.185055</td>\n",
       "    </tr>\n",
       "    <tr>\n",
       "      <th>4</th>\n",
       "      <td>0.002051</td>\n",
       "      <td>0.000821</td>\n",
       "      <td>0.253550</td>\n",
       "    </tr>\n",
       "    <tr>\n",
       "      <th>5</th>\n",
       "      <td>0.001951</td>\n",
       "      <td>0.000827</td>\n",
       "      <td>0.138271</td>\n",
       "    </tr>\n",
       "    <tr>\n",
       "      <th>6</th>\n",
       "      <td>0.001772</td>\n",
       "      <td>0.000757</td>\n",
       "      <td>0.132710</td>\n",
       "    </tr>\n",
       "    <tr>\n",
       "      <th>7</th>\n",
       "      <td>0.002046</td>\n",
       "      <td>0.000909</td>\n",
       "      <td>0.123239</td>\n",
       "    </tr>\n",
       "    <tr>\n",
       "      <th>8</th>\n",
       "      <td>0.001859</td>\n",
       "      <td>0.000771</td>\n",
       "      <td>0.340745</td>\n",
       "    </tr>\n",
       "    <tr>\n",
       "      <th>9</th>\n",
       "      <td>0.001699</td>\n",
       "      <td>0.000754</td>\n",
       "      <td>0.124159</td>\n",
       "    </tr>\n",
       "  </tbody>\n",
       "</table>\n",
       "</div>"
      ],
      "text/plain": [
       "   fit_time  score_time  test_score\n",
       "0  0.003490    0.001045    0.108807\n",
       "1  0.002632    0.000911    0.123177\n",
       "2  0.001854    0.000786    0.109383\n",
       "3  0.002164    0.001017    0.185055\n",
       "4  0.002051    0.000821    0.253550\n",
       "5  0.001951    0.000827    0.138271\n",
       "6  0.001772    0.000757    0.132710\n",
       "7  0.002046    0.000909    0.123239\n",
       "8  0.001859    0.000771    0.340745\n",
       "9  0.001699    0.000754    0.124159"
      ]
     },
     "execution_count": 10,
     "metadata": {},
     "output_type": "execute_result"
    }
   ],
   "source": [
    "from sklearn.model_selection import cross_validate\n",
    "\n",
    "scores = cross_validate(\n",
    "    model, X_train, y_train, scoring=score_fn, cv=10\n",
    ")\n",
    "pd.DataFrame(scores)"
   ]
  }
 ],
 "metadata": {
  "jupytext": {
   "cell_metadata_filter": "-all",
   "main_language": "python",
   "notebook_metadata_filter": "-all"
  },
  "kernelspec": {
   "display_name": "Python 3 (ipykernel)",
   "language": "python",
   "name": "python3"
  },
  "language_info": {
   "codemirror_mode": {
    "name": "ipython",
    "version": 3
   },
   "file_extension": ".py",
   "mimetype": "text/x-python",
   "name": "python",
   "nbconvert_exporter": "python",
   "pygments_lexer": "ipython3",
   "version": "3.12.3"
  }
 },
 "nbformat": 4,
 "nbformat_minor": 5
}
